{
  "cells": [
    {
      "cell_type": "markdown",
      "metadata": {
        "id": "view-in-github",
        "colab_type": "text"
      },
      "source": [
        "<a href=\"https://colab.research.google.com/github/zarawellsdevos/googlecolab/blob/main/one_legged_cycling_time_trial_example.ipynb\" target=\"_parent\"><img src=\"https://colab.research.google.com/assets/colab-badge.svg\" alt=\"Open In Colab\"/></a>"
      ]
    },
    {
      "cell_type": "markdown",
      "metadata": {
        "id": "x86U2NKT2ICL"
      },
      "source": [
        "# One-Legged Cycling Time Trial\n",
        "\n",
        "Here we develop and solve an optimal control problem to find out:\n",
        "\n",
        "*How to activate muscles in the leg to minimize the time taken to travel a specified distance from a standstill on a bicycle?*\n",
        "\n",
        "We simplify the system by modeling a single human leg with four lumped muscular-tendons acuating the knee and ankle:\n",
        "\n",
        "- An extensor that wraps over the knee\n",
        "- A flexor under the thigh to flex the knee\n",
        "- Dorsiflexor at the ankle joint\n",
        "- Plantar flexor at the ankle joint\n",
        "\n",
        "The reaction force at the foot-pedal interface is modeled to mimic the torque felt if accelerating the whole bicycle with rider on flat ground.\n",
        "\n",
        "A schematic below shows the elements of the model.\n",
        "\n",
        "The goal will be travel a specific distance in the shortest amount of time given that the leg muscles have to coordinate and can only be excited from to contract.\n",
        "\n",
        "Changing the various parameters of the model can decrease or increase the time it takes to cross the finish line."
      ]
    },
    {
      "cell_type": "markdown",
      "metadata": {
        "id": "gbC6RpAXexO7"
      },
      "source": [
        "![](https://github.com/mechmotum/one-legged-time-trial/blob/main/one-legged-time-trial.svg?raw=1)"
      ]
    },
    {
      "cell_type": "markdown",
      "metadata": {
        "id": "c_ppfeEEMPEk"
      },
      "source": [
        "## Setting up the coding environment\n",
        "\n",
        "These code blocks will make sure all the needed packages are installed on Colab."
      ]
    },
    {
      "cell_type": "code",
      "execution_count": 35,
      "metadata": {
        "id": "-QMDC4P3D1b7",
        "outputId": "8bc5fafd-b142-484c-9f2f-73e9367e83e4",
        "colab": {
          "base_uri": "https://localhost:8080/"
        }
      },
      "outputs": [
        {
          "output_type": "stream",
          "name": "stdout",
          "text": [
            "✨🍰✨ Everything looks OK!\n",
            "Environment already setup, proceed.\n"
          ]
        }
      ],
      "source": [
        "import os\n",
        "if 'google.colab' in str(get_ipython()):\n",
        "    !pip install -q condacolab\n",
        "    import condacolab\n",
        "\n",
        "    try:\n",
        "        condacolab.check()\n",
        "    except AssertionError:\n",
        "        print(\"Condacolab not yet installed, installing now. Session will crash and restart\")\n",
        "        condacolab.install()\n",
        "    except:\n",
        "        print(\"Something went wrong\")\n",
        "\n",
        "    if os.path.isfile(\"one-legged-cycling-time-trial-env.yml\"):\n",
        "        print(\"Environment already setup, proceed.\")\n",
        "    else:\n",
        "        !wget https://raw.githubusercontent.com/mechmotum/one-legged-time-trial/main/one-legged-cycling-time-trial-env.yml\n",
        "\n",
        "    try:\n",
        "        import opty\n",
        "    except ImportError:\n",
        "         print(\"Environment will be installed. This can take a few minutes.\")\n",
        "         !conda env update -n base -f one-legged-cycling-time-trial-env.yml"
      ]
    },
    {
      "cell_type": "code",
      "execution_count": 36,
      "metadata": {
        "id": "lTtjj76657HT"
      },
      "outputs": [],
      "source": [
        "from opty.direct_collocation import Problem\n",
        "from opty.utils import parse_free\n",
        "from scipy.optimize import fsolve\n",
        "import matplotlib.animation as animation\n",
        "import matplotlib.pyplot as plt\n",
        "import numpy as np\n",
        "import sympy as sm\n",
        "import sympy.physics.biomechanics as bm\n",
        "import sympy.physics.mechanics as me\n",
        "from IPython.display import HTML"
      ]
    },
    {
      "cell_type": "code",
      "execution_count": 37,
      "metadata": {
        "id": "eGBq1UZFexO8"
      },
      "outputs": [],
      "source": [
        "me.init_vprinting()"
      ]
    },
    {
      "cell_type": "markdown",
      "metadata": {
        "id": "VSKj6PQaL7C-"
      },
      "source": [
        "# Define coordinates and variables"
      ]
    },
    {
      "cell_type": "markdown",
      "metadata": {
        "id": "HS1YIwV6O7IN"
      },
      "source": [
        "## Coordinates\n",
        "\n",
        "$q_1 =$ crank angle \\\n",
        "$q_2 =$ pedal angle \\\n",
        "$q_3 =$ ankle angle \\\n",
        "$q_4 =$ knee angle \\\n",
        "$u_1 =$ crank angular rate (cadence) \\\n",
        "$u_2 =$ pedal angular rate \\\n",
        "$u_3 =$ ankle angular rate \\\n",
        "$u_4 =$ knee angular rate"
      ]
    },
    {
      "cell_type": "code",
      "execution_count": 38,
      "metadata": {
        "id": "q-9zCwDk03iP",
        "outputId": "372312e4-a2af-49a3-a188-3cc4c71eced9",
        "colab": {
          "base_uri": "https://localhost:8080/",
          "height": 98
        }
      },
      "outputs": [
        {
          "output_type": "execute_result",
          "data": {
            "text/plain": [
              "⎛⎡q₁⎤  ⎡u₁⎤⎞\n",
              "⎜⎢  ⎥  ⎢  ⎥⎟\n",
              "⎜⎢q₂⎥  ⎢u₂⎥⎟\n",
              "⎜⎢  ⎥, ⎢  ⎥⎟\n",
              "⎜⎢q₃⎥  ⎢u₃⎥⎟\n",
              "⎜⎢  ⎥  ⎢  ⎥⎟\n",
              "⎝⎣q₄⎦  ⎣u₄⎦⎠"
            ],
            "text/latex": "$\\displaystyle \\left( \\left[\\begin{matrix}q_{1}\\\\q_{2}\\\\q_{3}\\\\q_{4}\\end{matrix}\\right], \\  \\left[\\begin{matrix}u_{1}\\\\u_{2}\\\\u_{3}\\\\u_{4}\\end{matrix}\\right]\\right)$"
          },
          "metadata": {},
          "execution_count": 38
        }
      ],
      "source": [
        "t = me.dynamicsymbols._t\n",
        "q1, q2, q3, q4 = me.dynamicsymbols(\"q1, q2, q3, q4\", real=True)\n",
        "u1, u2, u3, u4 = me.dynamicsymbols(\"u1, u2, u3, u4\", real=True)\n",
        "q = sm.Matrix([q1, q2, q3, q4])\n",
        "u = sm.Matrix([u1, u2, u3, u4])\n",
        "\n",
        "q, u"
      ]
    },
    {
      "cell_type": "markdown",
      "metadata": {
        "id": "kiqSrlfjO0Iu"
      },
      "source": [
        "## Constants\n",
        "$l_s = $ seat tube length \\\n",
        "$l_c = $ crank length \\\n",
        "$l_f = $ distance from pedal-foot contact to ankle \\\n",
        "$l_l = $ lower leg length \\\n",
        "$l_u = $ upper leg length \\\n",
        "$\\lambda = $ seat tube angle \\\n",
        "$g = $ acceleration due to gravity \\\n",
        "$r_k = $ knee wrapping radius \\\n",
        "$m_A = $ mass of crank \\\n",
        "$m_B = $ mass of foot and pedal \\\n",
        "$m_C = $ mass of lower leg \\\n",
        "$m_D = $ mass of upper leg \\\n",
        "$I_{Axx} = $ moment of inertia of crank \\\n",
        "$I_{Bxx} = $ moment of inertia of foot and pedal \\\n",
        "$I_{Cxx} = $ moment of inertia of lower leg \\\n",
        "$I_{Dxx} = $ moment of inertia of upper leg \\\n",
        "$J = $ rotational moment of inertia of a bicycle wheel \\\n",
        "$m = $ mass of the bicycle and cyclist \\\n",
        "$r_w = $ wheel radius \\\n",
        "$G = $ gear ratio between crank and wheel \\\n",
        "$C_r = $ coefficient of rolling resistance \\\n",
        "$C_D = $ coefficient of drag \\\n",
        "$\\rho = $ density of air \\\n",
        "$A_r = $ frontal area of bicycle and cyclist"
      ]
    },
    {
      "cell_type": "code",
      "execution_count": 39,
      "metadata": {
        "id": "kfmJqSWSNLW_"
      },
      "outputs": [],
      "source": [
        "ls, lc, lf, ll, lu = sm.symbols(\"ls, lc, lf, ll, lu\", real=True, positive=True)\n",
        "lam, g, rk = sm.symbols(\"lam, g, rk\", real=True, nonnegative=True)\n",
        "mA, mB, mC, mD = sm.symbols(\"mA, mB, mC, mD\", nonnegative=True)\n",
        "IAzz, IBzz, ICzz, IDzz = sm.symbols(\"IAzz, IBzz, ICzz, IDzz\", nonnegative=True)\n",
        "J, m, rw, G, Cr, CD, rho, Ar = sm.symbols(\"J, m, rw, G, Cr, CD, rho, Ar\", nonnegative=True)"
      ]
    },
    {
      "cell_type": "markdown",
      "metadata": {
        "id": "xvGhLstrPWGe"
      },
      "source": [
        "## Reference Frames\n",
        "\n",
        "$N = $ inertial reference frame for leg dynamics \\\n",
        "$A = $ crank \\\n",
        "$B = $ foot \\\n",
        "$C = $ lower leg \\\n",
        "$D = $ upper leg"
      ]
    },
    {
      "cell_type": "code",
      "execution_count": 40,
      "metadata": {
        "id": "N5ZPQMPiNOV9"
      },
      "outputs": [],
      "source": [
        "N, A, B, C, D = sm.symbols(\"N, A, B, C, D\", cls=me.ReferenceFrame)\n",
        "\n",
        "A.orient_axis(N, N.z, q1)  # crank angle\n",
        "B.orient_axis(A, A.z, q2)  # pedal/foot angle\n",
        "C.orient_axis(B, B.z, q3)  # ankle angle\n",
        "D.orient_axis(C, C.z, q4)  # knee angle\n",
        "\n",
        "A.set_ang_vel(N, u1 * N.z)\n",
        "B.set_ang_vel(A, u2 * A.z)\n",
        "C.set_ang_vel(B, u3 * B.z)\n",
        "D.set_ang_vel(C, u4 * C.z)"
      ]
    },
    {
      "cell_type": "markdown",
      "metadata": {
        "id": "VQOIH6SLPnnt"
      },
      "source": [
        "# Point Kinematics\n",
        "$P_1 =$ crank center \\\n",
        "$P_2 =$ pedal center \\\n",
        "$P_3 =$ ankle \\\n",
        "$P_4 =$ knee \\\n",
        "$P_5 =$ hip \\\n",
        "$P_6 =$ seat center \\\n",
        "$P_7 =$ heel \\\n",
        "$P_8 =$ knee muscle lower leg insertion point \\\n",
        "$P_9 =$ ankle muscle lower leg insertion point"
      ]
    },
    {
      "cell_type": "code",
      "execution_count": 41,
      "metadata": {
        "id": "K3ALr1lmNQn-"
      },
      "outputs": [],
      "source": [
        "P1, P2, P3, P4, P5, P6, P7, P8, P9 = sm.symbols(\n",
        "    \"P1, P2, P3, P4, P5, P6, P7, P8, P9\", cls=me.Point\n",
        ")\n",
        "Ao, Bo, Co, Do = sm.symbols(\"Ao, Bo, Co, Do\", cls=me.Point)\n",
        "\n",
        "Ao.set_pos(P1, 0 * A.x)\n",
        "P2.set_pos(P1, lc * A.x)  # pedal center\n",
        "Bo.set_pos(P2, lf / 2 * B.x)  # foot mass center\n",
        "P3.set_pos(P2, lf * B.x)  # ankle\n",
        "P7.set_pos(P2, 3 * lf / 2 * B.x)  # heel\n",
        "Co.set_pos(P3, ll / 2 * C.x)  # lower leg mass center\n",
        "P4.set_pos(P3, ll * C.x)  # knee\n",
        "Do.set_pos(P4, lu / 2 * D.x)  # upper leg mass center\n",
        "P5.set_pos(P4, lu * D.x)  # hip\n",
        "P6.set_pos(P1, -ls * sm.cos(lam) * N.x + ls * sm.sin(lam) * N.y)  # seat\n",
        "P8.set_pos(P3, ll / 6 * C.x)\n",
        "P9.set_pos(P4, -2 * rk * C.x)\n",
        "\n",
        "P1.set_vel(N, 0)\n",
        "P6.set_vel(N, 0)\n",
        "Ao.v2pt_theory(P1, N, A)\n",
        "P2.v2pt_theory(P1, N, A)\n",
        "P7.v2pt_theory(P2, N, B)\n",
        "Bo.v2pt_theory(P2, N, B)\n",
        "P3.v2pt_theory(P2, N, B)\n",
        "Co.v2pt_theory(P3, N, C)\n",
        "P8.v2pt_theory(P3, N, C)\n",
        "P9.v2pt_theory(P3, N, C)\n",
        "P4.v2pt_theory(P3, N, C)\n",
        "Do.v2pt_theory(P4, N, D)\n",
        "P5.v2pt_theory(P4, N, D)\n",
        "\n",
        "kindiff = sm.Matrix([ui - qi.diff() for ui, qi in zip(u, q)])"
      ]
    },
    {
      "cell_type": "markdown",
      "metadata": {
        "id": "l0TNj48SP8QT"
      },
      "source": [
        "# Holonomic Constraints\n",
        "The leg forms a kinematic loop and two holonomic constraints arise from this loop."
      ]
    },
    {
      "cell_type": "code",
      "execution_count": 42,
      "metadata": {
        "id": "dnkHXnbONTOu"
      },
      "outputs": [],
      "source": [
        "holonomic = (P5.pos_from(P1) - P6.pos_from(P1)).to_matrix(N)[:2, :]\n",
        "\n",
        "qd_repl = {q1.diff(): u1, q2.diff(): u2, q3.diff(): u3, q4.diff(): u4}\n",
        "\n",
        "mocon = me.msubs(holonomic.diff(t), qd_repl)"
      ]
    },
    {
      "cell_type": "markdown",
      "metadata": {
        "id": "r2acaVM9exO-"
      },
      "source": [
        "# Inertia"
      ]
    },
    {
      "cell_type": "code",
      "execution_count": 43,
      "metadata": {
        "id": "wZOH3FpCexO-"
      },
      "outputs": [],
      "source": [
        "IA = me.Inertia.from_inertia_scalars(Ao, A, 0, 0, IAzz)\n",
        "IB = me.Inertia.from_inertia_scalars(Bo, B, 0, 0, IBzz)\n",
        "IC = me.Inertia.from_inertia_scalars(Co, C, 0, 0, ICzz)\n",
        "ID = me.Inertia.from_inertia_scalars(Do, D, 0, 0, IDzz)\n",
        "\n",
        "crank = me.RigidBody(\"crank\", masscenter=Ao, frame=A, mass=mA, inertia=IA)\n",
        "foot = me.RigidBody(\"foot\", masscenter=Bo, frame=B, mass=mB, inertia=IB)\n",
        "lower_leg = me.RigidBody(\"lower leg\", masscenter=Co, frame=C, mass=mC, inertia=IC)\n",
        "upper_leg = me.RigidBody(\"upper leg\", masscenter=Do, frame=D, mass=mD, inertia=ID)"
      ]
    },
    {
      "cell_type": "markdown",
      "metadata": {
        "id": "qPj-ifoLQFez"
      },
      "source": [
        "# Forces"
      ]
    },
    {
      "cell_type": "code",
      "execution_count": 44,
      "metadata": {
        "id": "MSI5I5z_NYhV"
      },
      "outputs": [],
      "source": [
        "gravB = me.Force(Bo, -mB * g * N.y)\n",
        "gravC = me.Force(Co, -mC * g * N.y)\n",
        "gravD = me.Force(Do, -mD * g * N.y)"
      ]
    },
    {
      "cell_type": "markdown",
      "metadata": {
        "id": "zf69dlNxQKiJ"
      },
      "source": [
        "# Crank Resistance\n",
        "\n",
        "We model the resistance torque at the crank to be that which you would feel when accelerating the bicycle and cyclist along flat ground. The basic equations of motion of a point mass model of a cyclist are:\n",
        "\n",
        "$$\n",
        "(2J + m r_w^2)\\dot{\\omega} = C_r m g r_w + \\operatorname{sgn}(-\\omega) \\frac{1}{2} \\rho C_D A_r (-\\omega r_w)^2 +T_w\n",
        "$$\n",
        "\n",
        "The angular speed of the rear wheel is related to the crank cadence by the gear ratio $G$:\n",
        "\n",
        "$$\n",
        "\\omega = G u_1,  \\dot{\\omega} = G \\dot{u}_1\\\\\n",
        "$$\n",
        "\n",
        "$$\n",
        "G T_w = T_c \\\\\n",
        "$$\n",
        "\n",
        "$$\n",
        "T_c = (2J + m r_w^2)G^2\\dot{u}_1 - C_r m g r_w G - \\operatorname{sgn}(-u_1) \\frac{1}{2} \\rho C_D A_r G^3 (-u_1 r_w)^2\n",
        "$$\n",
        "\n",
        "We will only allow forward motion, i.e. $u_1 < 0$, so the above equation reduces to:\n",
        "\n",
        "$$\n",
        "-T_c = -(2J + m r_w^2)G^2\\dot{u}_1 + C_r m g r_w G + \\frac{1}{2} \\rho C_D A_r G^3 (u_1 r_w)^2\n",
        "$$"
      ]
    },
    {
      "cell_type": "code",
      "execution_count": 45,
      "metadata": {
        "id": "ACBzNjTRNbem"
      },
      "outputs": [],
      "source": [
        "# NOTE : we enforce later that u1 < 0 (forward pedaling), thus the\n",
        "# resistance should be a posistive torque to resist the negative speed\n",
        "# NOTE : using sm.sign() will break the constraint Jacobian due taking the\n",
        "# derivative of sm.sign().\n",
        "\n",
        "resistance = me.Torque(\n",
        "    crank,\n",
        "    (\n",
        "        -(2 * J + m * rw**2) * G**2 * u1.diff()\n",
        "        + Cr * m * g * rw * G\n",
        "        + rho * CD * Ar * G**3 * rw**3 * u1**2 / 2\n",
        "    )\n",
        "    * N.z,\n",
        ")"
      ]
    },
    {
      "cell_type": "markdown",
      "metadata": {
        "id": "5lk3MmclS36g"
      },
      "source": [
        "# Muscles\n",
        "We lump all the muscles that contribute to joint torques at the knee and ankle into four simplified muscles. The quadriceps wrap over the knee. The other muscles act on linear pathways."
      ]
    },
    {
      "cell_type": "code",
      "execution_count": 46,
      "metadata": {
        "id": "Rzlzg-2xNfYH"
      },
      "outputs": [],
      "source": [
        "class ExtensorPathway(me.PathwayBase):\n",
        "    def __init__(\n",
        "        self,\n",
        "        origin,\n",
        "        insertion,\n",
        "        axis_point,\n",
        "        axis,\n",
        "        parent_axis,\n",
        "        child_axis,\n",
        "        radius,\n",
        "        coordinate,\n",
        "    ):\n",
        "        \"\"\"A custom pathway that wraps a circular arc around a pin joint.\n",
        "        This is intended to be used for extensor muscles. For example, a\n",
        "        triceps wrapping around the elbow joint to extend the upper arm at\n",
        "        the elbow.\n",
        "\n",
        "        Parameters\n",
        "        ==========\n",
        "        origin : Point\n",
        "            Muscle origin point fixed on the parent body (A).\n",
        "        insertion : Point\n",
        "            Muscle insertion point fixed on the child body (B).\n",
        "        axis_point : Point\n",
        "            Pin joint location fixed in both the parent and child.\n",
        "        axis : Vector\n",
        "            Pin joint rotation axis.\n",
        "        parent_axis : Vector\n",
        "            Axis fixed in the parent frame (A) that is directed from the pin\n",
        "            joint point to the muscle origin point.\n",
        "        child_axis : Vector\n",
        "            Axis fixed in the child frame (B) that is directed from the pin\n",
        "            joint point to the muscle insertion point.\n",
        "        radius : sympyfiable\n",
        "            Radius of the arc that the muscle wraps around.\n",
        "        coordinate : sympfiable function of time\n",
        "            Joint angle, zero when parent and child frames align. Positive\n",
        "            rotation about the pin joint axis, B with respect to A.\n",
        "\n",
        "        Notes\n",
        "        =====\n",
        "        Only valid for coordinate >= 0.\n",
        "\n",
        "        \"\"\"\n",
        "        super().__init__(origin, insertion)\n",
        "        self.origin = origin\n",
        "        self.insertion = insertion\n",
        "        self.axis_point = axis_point\n",
        "        self.axis = axis.normalize()\n",
        "        self.parent_axis = parent_axis.normalize()\n",
        "        self.child_axis = child_axis.normalize()\n",
        "        self.radius = radius\n",
        "        self.coordinate = coordinate\n",
        "        self.origin_distance = axis_point.pos_from(origin).magnitude()\n",
        "        self.insertion_distance = axis_point.pos_from(insertion).magnitude()\n",
        "        self.origin_angle = sm.asin(self.radius / self.origin_distance)\n",
        "        self.insertion_angle = sm.asin(self.radius / self.insertion_distance)\n",
        "\n",
        "    @property\n",
        "    def length(self):\n",
        "        \"\"\"Length of the pathway.\n",
        "        Length of two fixed length line segments and a changing arc length\n",
        "        of a circle.\n",
        "        \"\"\"\n",
        "        angle = self.origin_angle + self.coordinate + self.insertion_angle\n",
        "        arc_length = self.radius * angle\n",
        "        origin_segment_length = self.origin_distance * sm.cos(self.origin_angle)\n",
        "        insertion_segment_length = self.insertion_distance * sm.cos(\n",
        "            self.insertion_angle\n",
        "        )\n",
        "        return origin_segment_length + arc_length + insertion_segment_length\n",
        "\n",
        "    @property\n",
        "    def extension_velocity(self):\n",
        "        \"\"\"Extension velocity of the pathway.\n",
        "        Arc length of circle is the only thing that changes when the elbow\n",
        "        flexes and extends.\n",
        "        \"\"\"\n",
        "        return self.radius * self.coordinate.diff(me.dynamicsymbols._t)\n",
        "\n",
        "    def to_loads(self, force_magnitude):\n",
        "        \"\"\"Loads in the correct format to be supplied to `KanesMethod`.\n",
        "        Forces applied to origin, insertion, and P from the muscle wrapped\n",
        "        over circular arc of radius r.\n",
        "        \"\"\"\n",
        "        self.parent_tangency_point = me.Point(\"Aw\")  # fixed in parent\n",
        "        self.child_tangency_point = me.Point(\"Bw\")  # fixed in child\n",
        "        self.parent_tangency_point.set_pos(\n",
        "            self.axis_point,\n",
        "            -self.radius * sm.cos(self.origin_angle) * self.parent_axis.cross(self.axis)\n",
        "            + self.radius * sm.sin(self.origin_angle) * self.parent_axis,\n",
        "        )\n",
        "        self.child_tangency_point.set_pos(\n",
        "            self.axis_point,\n",
        "            self.radius\n",
        "            * sm.cos(self.insertion_angle)\n",
        "            * self.child_axis.cross(self.axis)\n",
        "            + self.radius * sm.sin(self.insertion_angle) * self.child_axis,\n",
        "        ),\n",
        "        parent_force_direction_vector = self.origin.pos_from(self.parent_tangency_point)\n",
        "        child_force_direction_vector = self.insertion.pos_from(self.child_tangency_point)\n",
        "        force_on_parent = force_magnitude * parent_force_direction_vector.normalize()\n",
        "        force_on_child = force_magnitude * child_force_direction_vector.normalize()\n",
        "        loads = [\n",
        "            me.Force(self.origin, force_on_parent),\n",
        "            me.Force(self.axis_point, -(force_on_parent + force_on_child)),\n",
        "            me.Force(self.insertion, force_on_child),\n",
        "        ]\n",
        "        return loads"
      ]
    },
    {
      "cell_type": "code",
      "execution_count": 47,
      "metadata": {
        "id": "4YSQqsBUNk5V"
      },
      "outputs": [],
      "source": [
        "knee_extensor_pathway = ExtensorPathway(P9, P5, P4, C.z, -C.x, D.x, rk, q4)\n",
        "knee_extensor_act = bm.FirstOrderActivationDeGroote2016.with_defaults(\"knee_extensor\")\n",
        "knee_extensor_mus = bm.MusculotendonDeGroote2016.with_defaults(\n",
        "    \"knee_extensor\", knee_extensor_pathway, knee_extensor_act\n",
        ")\n",
        "knee_flexor_pathway = me.LinearPathway(P9, P5)\n",
        "knee_flexor_act = bm.FirstOrderActivationDeGroote2016.with_defaults(\"knee_flexor\")\n",
        "knee_flexor_mus = bm.MusculotendonDeGroote2016.with_defaults(\n",
        "    \"knee_flexor\", knee_flexor_pathway, knee_flexor_act\n",
        ")\n",
        "ankle_flexor_pathway = me.LinearPathway(P8, P2)\n",
        "ankle_flexor_act = bm.FirstOrderActivationDeGroote2016.with_defaults(\"ankle_flexor\")\n",
        "ankle_flexor_mus = bm.MusculotendonDeGroote2016.with_defaults(\n",
        "    \"ankle_flexor\", ankle_flexor_pathway, ankle_flexor_act\n",
        ")\n",
        "ankle_extensor_pathway = me.LinearPathway(P8, P7)\n",
        "ankle_extensor_act = bm.FirstOrderActivationDeGroote2016.with_defaults(\"ankle_extensor\")\n",
        "ankle_extensor_mus = bm.MusculotendonDeGroote2016.with_defaults(\n",
        "    \"ankle_extensor\", ankle_extensor_pathway, ankle_extensor_act\n",
        ")\n",
        "ankle_damping_B = me.Torque(B, 20.0*u3*B.z)\n",
        "ankle_damping_C = me.Torque(C, -20.0*u3*B.z)\n",
        "loads = (\n",
        "    knee_extensor_mus.to_loads() +\n",
        "    knee_flexor_mus.to_loads() +\n",
        "    ankle_flexor_mus.to_loads() +\n",
        "    ankle_extensor_mus.to_loads() +\n",
        "    [ankle_damping_B, ankle_damping_C, resistance, gravB, gravC, gravD]\n",
        ")"
      ]
    },
    {
      "cell_type": "markdown",
      "metadata": {
        "id": "uEVgsrRyTC4k"
      },
      "source": [
        "# Form the Equations of Motion"
      ]
    },
    {
      "cell_type": "code",
      "execution_count": 48,
      "metadata": {
        "id": "HyTl1sQcNnmg"
      },
      "outputs": [],
      "source": [
        "kane = me.KanesMethod(\n",
        "    N,\n",
        "    (q1, q2),\n",
        "    (u1, u2),\n",
        "    kd_eqs=kindiff[:],\n",
        "    q_dependent=(q3, q4),\n",
        "    configuration_constraints=holonomic,\n",
        "    velocity_constraints=mocon,\n",
        "    u_dependent=(u3, u4),\n",
        "    constraint_solver=\"CRAMER\",\n",
        ")\n",
        "bodies = (crank, foot, lower_leg, upper_leg)\n",
        "Fr, Frs = kane.kanes_equations(bodies, loads)\n",
        "\n",
        "muscle_diff_eq = sm.Matrix(\n",
        "    [\n",
        "        knee_extensor_mus.a.diff() - knee_extensor_mus.rhs()[0, 0],\n",
        "        knee_flexor_mus.a.diff() - knee_flexor_mus.rhs()[0, 0],\n",
        "        ankle_flexor_mus.a.diff() - ankle_flexor_mus.rhs()[0, 0],\n",
        "        ankle_extensor_mus.a.diff() - ankle_extensor_mus.rhs()[0, 0],\n",
        "    ]\n",
        ")\n",
        "\n",
        "eom = kindiff.col_join(Fr + Frs).col_join(muscle_diff_eq).col_join(holonomic)"
      ]
    },
    {
      "cell_type": "code",
      "execution_count": 49,
      "metadata": {
        "id": "vi9R3V5sexO_",
        "outputId": "9ec5b9a0-b1ab-41df-e927-ef25a51e5385",
        "colab": {
          "base_uri": "https://localhost:8080/",
          "height": 38
        }
      },
      "outputs": [
        {
          "output_type": "execute_result",
          "data": {
            "text/plain": [
              "(q₁, q₂, q₃, q₄, u₁, u₂, u₃, u₄, aₖₙₑₑ ₑₓₜₑₙₛₒᵣ, a_knee_flexor, a_ankle_flexor ↪\n",
              "\n",
              "↪ , aₐₙₖₗₑ ₑₓₜₑₙₛₒᵣ)"
            ],
            "text/latex": "$\\displaystyle \\left( q_{1}, \\  q_{2}, \\  q_{3}, \\  q_{4}, \\  u_{1}, \\  u_{2}, \\  u_{3}, \\  u_{4}, \\  a_{knee extensor}, \\  a_{knee flexor}, \\  a_{ankle flexor}, \\  a_{ankle extensor}\\right)$"
          },
          "metadata": {},
          "execution_count": 49
        }
      ],
      "source": [
        "state_vars = (\n",
        "    q1,\n",
        "    q2,\n",
        "    q3,\n",
        "    q4,\n",
        "    u1,\n",
        "    u2,\n",
        "    u3,\n",
        "    u4,\n",
        "    knee_extensor_mus.a,\n",
        "    knee_flexor_mus.a,\n",
        "    ankle_flexor_mus.a,\n",
        "    ankle_extensor_mus.a,\n",
        ")\n",
        "state_vars"
      ]
    },
    {
      "cell_type": "markdown",
      "metadata": {
        "id": "OA_nGFmhTXFH"
      },
      "source": [
        "# Objective\n",
        "\n",
        "The objective is to cycle as fast as possible, so we need to find the minmal\n",
        "time duration to travel a fixed distance $d = r_wGq_1$. This\n",
        "can be written mathmatically as:\n",
        "$$\n",
        "   \\min \\int^{t_0}_{t_f} dt\n",
        "$$\n",
        "For $N$ discretization nodes, this discretizes to:\n",
        "$$\n",
        "   \\min \\sum_1^N h\n",
        "$$\n",
        "If $h$ is constant, then we can simply minimize $h$. With the objective being $h$, the gradient of the objective with respect to all of the free optimization variables is zero except for the single entry of\n",
        "$\\frac{\\partial h}{\\partial h} = 1$."
      ]
    },
    {
      "cell_type": "code",
      "execution_count": 50,
      "metadata": {
        "id": "HZODdHmENrBo"
      },
      "outputs": [],
      "source": [
        "def obj(free):\n",
        "    \"\"\"Return h (always the last element in the free variables).\"\"\"\n",
        "    return free[-1]\n",
        "\n",
        "\n",
        "def gradient(free):\n",
        "    \"\"\"Return the gradient of the objective.\"\"\"\n",
        "    grad = np.zeros_like(free)\n",
        "    grad[-1] = 1.0\n",
        "    return grad"
      ]
    },
    {
      "cell_type": "markdown",
      "metadata": {
        "id": "aGcj34aWTy_A"
      },
      "source": [
        "# Define Numerical Constants\n",
        "\n"
      ]
    },
    {
      "cell_type": "code",
      "execution_count": 51,
      "metadata": {
        "id": "ksAKKVnrNwEo"
      },
      "outputs": [],
      "source": [
        "par_map = {\n",
        "    Ar: 0.55,  # m^2, Tab 5.1, pg 188 Wilson 2004, Upright commuting bike\n",
        "    CD: 1.15,  # unitless, Tab 5.1, pg 188 Wilson 2004, Upright commuting bike\n",
        "    Cr: 0.006,  # unitless, Tab 5.1, pg 188 Wilson 2004, Upright commuting bike\n",
        "    G: 2.0,\n",
        "    IAzz: 0.0,\n",
        "    IBzz: 0.01,  # guess, TODO\n",
        "    ICzz: 0.101,  # lower_leg_inertia [kg*m^2]\n",
        "    IDzz: 0.282,  # upper_leg_inertia [kg*m^2],\n",
        "    J: 0.1524,  # from Browser Jason's thesis (rear wheel)\n",
        "    g: 9.81,\n",
        "    lam: np.deg2rad(75.0),\n",
        "    lc: 0.175,  # crank length [m]\n",
        "    lf: 0.08,  # pedal to ankle [m]\n",
        "    ll: 0.611,  # lower_leg_length [m]\n",
        "    ls: 0.8,  # seat tube length [m]\n",
        "    lu: 0.424,  # upper_leg_length [m],\n",
        "    m: 85.0,  # kg\n",
        "    # mA: 0.0,  # not in eom\n",
        "    mB: 1.0,  # foot mass [kg] guess TODO\n",
        "    mC: 6.769,  # lower_leg_mass [kg]\n",
        "    mD: 17.01,  # upper_leg_mass [kg],\n",
        "    rho: 1.204,  # kg/m^3, air density\n",
        "    rk: 0.04,  # m, knee radius\n",
        "    rw: 0.3,  # m, wheel radius\n",
        "    ankle_extensor_mus.F_M_max: 1000.0,\n",
        "    ankle_extensor_mus.l_M_opt: np.nan,\n",
        "    ankle_extensor_mus.l_T_slack: np.nan,\n",
        "    ankle_flexor_mus.F_M_max: 400.0,\n",
        "    ankle_flexor_mus.l_M_opt: np.nan,\n",
        "    ankle_flexor_mus.l_T_slack: np.nan,\n",
        "    knee_flexor_mus.F_M_max: 1200.0,\n",
        "    knee_flexor_mus.l_M_opt: np.nan,\n",
        "    knee_flexor_mus.l_T_slack: np.nan,\n",
        "    knee_extensor_mus.F_M_max: 1400.0,\n",
        "    knee_extensor_mus.l_M_opt: np.nan,\n",
        "    knee_extensor_mus.l_T_slack: np.nan,\n",
        "}\n",
        "\n",
        "p = np.array(list(par_map.keys()))\n",
        "p_vals = np.array(list(par_map.values()))"
      ]
    },
    {
      "cell_type": "code",
      "execution_count": 52,
      "metadata": {
        "id": "6Ldh4OvsN0lE",
        "outputId": "a03e3277-565b-4e7c-91cb-9e80d1472cbc",
        "colab": {
          "base_uri": "https://localhost:8080/",
          "height": 58
        }
      },
      "outputs": [
        {
          "output_type": "execute_result",
          "data": {
            "text/plain": [
              "{Ar: 0.55, CD: 1.15, Cr: 0.006, F_M_max_ankle_extensor: 1000.0, F_M_max_ankle_ ↪\n",
              "\n",
              "↪ flexor: 400.0, F_M_max_knee_extensor: 1400.0, F_M_max_knee_flexor: 1200.0, G ↪\n",
              "\n",
              "↪ : 2.0, IAzz: 0.0, IBzz: 0.01, ICzz: 0.101, IDzz: 0.282, J: 0.1524, g: 9.81,  ↪\n",
              "\n",
              "↪ l_M_opt_ankle_extensor: 0.07085879260907571, l_M_opt_ankle_flexor: 0.0626301 ↪\n",
              "\n",
              "↪ 7725283049, l_M_opt_knee_extensor: 0.281592761434192, l_M_opt_knee_flexor: 0 ↪\n",
              "\n",
              "↪ .25447058267567113, l_T_slack_ankle_extensor: 0.06085879260907571, l_T_slack ↪\n",
              "\n",
              "↪ _ankle_flexor: 0.052630177252830486, l_T_slack_knee_extensor: 0.271592761434 ↪\n",
              "\n",
              "↪ 192, l_T_slack_knee_flexor: 0.24447058267567112, lam: 1.3089969389957472, lc ↪\n",
              "\n",
              "↪ : 0.175, lf: 0.08, ll: 0.611, ls: 0.8, lu: 0.424, m: 85.0, mB: 1.0, mC: 6.76 ↪\n",
              "\n",
              "↪ 9, mD: 17.01, ρ: 1.204, rk: 0.04, rw: 0.3}"
            ],
            "text/latex": "$\\displaystyle \\left\\{ Ar : 0.55, \\  CD : 1.15, \\  Cr : 0.006, \\  F_{M max ankle extensor} : 1000.0, \\  F_{M max ankle flexor} : 400.0, \\  F_{M max knee extensor} : 1400.0, \\  F_{M max knee flexor} : 1200.0, \\  G : 2.0, \\  IAzz : 0.0, \\  IBzz : 0.01, \\  ICzz : 0.101, \\  IDzz : 0.282, \\  J : 0.1524, \\  g : 9.81, \\  l_{M opt ankle extensor} : 0.0708587926090757, \\  l_{M opt ankle flexor} : 0.0626301772528305, \\  l_{M opt knee extensor} : 0.281592761434192, \\  l_{M opt knee flexor} : 0.254470582675671, \\  l_{T slack ankle extensor} : 0.0608587926090757, \\  l_{T slack ankle flexor} : 0.0526301772528305, \\  l_{T slack knee extensor} : 0.271592761434192, \\  l_{T slack knee flexor} : 0.244470582675671, \\  lam : 1.30899693899575, \\  lc : 0.175, \\  lf : 0.08, \\  ll : 0.611, \\  ls : 0.8, \\  lu : 0.424, \\  m : 85.0, \\  mB : 1.0, \\  mC : 6.769, \\  mD : 17.01, \\  \\rho : 1.204, \\  rk : 0.04, \\  rw : 0.3\\right\\}$"
          },
          "metadata": {},
          "execution_count": 52
        }
      ],
      "source": [
        "# To get estimates of the tendon slack length, align the crank with the seat\n",
        "# tube to maximally extend the knee and hold the foot perpendicular to the\n",
        "# lower leg then calculate the muscle pathway lengths in this configuration.\n",
        "\n",
        "q1_ext = -par_map[lam]  # aligned with seat post\n",
        "q2_ext = 3 * np.pi / 2  # foot perpendicular to crank\n",
        "eval_holonomic = sm.lambdify((q, p), holonomic)\n",
        "q3_ext, q4_ext = fsolve(\n",
        "    lambda x: eval_holonomic([q1_ext, q2_ext, x[0], x[1]], p_vals).squeeze(),\n",
        "    x0=np.deg2rad([-100.0, 20.0]),\n",
        ")\n",
        "q_ext = np.array([q1_ext, q2_ext, q3_ext, q4_ext])\n",
        "\n",
        "# TODO : duplicated below\n",
        "eval_ankle_flexor_len = sm.lambdify((q, p), ankle_flexor_pathway.length)\n",
        "eval_ankle_extensor_len = sm.lambdify((q, p), ankle_extensor_pathway.length)\n",
        "eval_knee_extensor_len = sm.lambdify((q, p), knee_extensor_pathway.length)\n",
        "eval_knee_flexor_len = sm.lambdify((q, p), knee_flexor_pathway.length)\n",
        "# length of muscle path when fully extended\n",
        "par_map[ankle_flexor_mus.l_T_slack] = eval_ankle_flexor_len(q_ext, p_vals) / 2\n",
        "par_map[ankle_extensor_mus.l_T_slack] = eval_ankle_extensor_len(q_ext, p_vals) / 2\n",
        "par_map[knee_extensor_mus.l_T_slack] = eval_knee_extensor_len(q_ext, p_vals) / 2\n",
        "par_map[knee_flexor_mus.l_T_slack] = eval_knee_flexor_len(q_ext, p_vals) / 2\n",
        "par_map[ankle_flexor_mus.l_M_opt] = par_map[ankle_flexor_mus.l_T_slack] + 0.01\n",
        "par_map[ankle_extensor_mus.l_M_opt] = par_map[ankle_extensor_mus.l_T_slack] + 0.01\n",
        "par_map[knee_extensor_mus.l_M_opt] = par_map[knee_extensor_mus.l_T_slack] + 0.01\n",
        "par_map[knee_flexor_mus.l_M_opt] = par_map[knee_flexor_mus.l_T_slack] + 0.01\n",
        "\n",
        "p_vals = np.array(list(par_map.values()))\n",
        "\n",
        "par_map"
      ]
    },
    {
      "cell_type": "markdown",
      "metadata": {
        "id": "3Xk6irTCexO_"
      },
      "source": [
        "# Muscle Budget and Gear Ratio\n",
        "\n",
        "Your goal to win the race will be to budget the muscle force production and to select the gear ratio to win the race. That means you can adjust these five parameters:"
      ]
    },
    {
      "cell_type": "code",
      "execution_count": 53,
      "metadata": {
        "id": "ZUj42ayFexO_"
      },
      "outputs": [],
      "source": [
        "par_map[G] = 2.0\n",
        "par_map[ankle_extensor_mus.F_M_max] = 800.0  # [N]\n",
        "par_map[ankle_flexor_mus.F_M_max] = 1200.0  # [N]\n",
        "par_map[knee_extensor_mus.F_M_max] = 1000.0  # [N]\n",
        "par_map[knee_flexor_mus.F_M_max] = 1000.0  # [N]"
      ]
    },
    {
      "cell_type": "markdown",
      "metadata": {
        "id": "1Eg3DZ_NexO_"
      },
      "source": [
        "You have a total budget of 4000 Newtons you can distribute among the four muscles and the gear ratio can be any value greater than zero."
      ]
    },
    {
      "cell_type": "code",
      "execution_count": 54,
      "metadata": {
        "id": "npny00oZexO_"
      },
      "outputs": [],
      "source": [
        "p_vals = np.array(list(par_map.values()))"
      ]
    },
    {
      "cell_type": "markdown",
      "metadata": {
        "id": "blKr8UMiUHSA"
      },
      "source": [
        "# Instance Constraints\n",
        "\n",
        "The cyclist should start with no motion (stationary) and in an initial configuration with the crank forward and horizontal (q1=0 deg) and the toe forward and foot parallel to the crank (q2=180 deg)."
      ]
    },
    {
      "cell_type": "code",
      "execution_count": 55,
      "metadata": {
        "id": "9mFnF_UyN3lm"
      },
      "outputs": [],
      "source": [
        "q1_0 = 0.0\n",
        "q2_0 = np.pi\n",
        "eval_holonomic = sm.lambdify((q, p), holonomic)\n",
        "q3_0, q4_0 = fsolve(\n",
        "    lambda x: eval_holonomic([q1_0, q2_0, x[0], x[1]], p_vals).squeeze(),\n",
        "    x0=np.deg2rad([-90.0, 90.0]),\n",
        "    xtol=1e-14,\n",
        ")\n",
        "q_0 = np.array([q1_0, q2_0, q3_0, q4_0])\n",
        "\n",
        "# Crank revolutions are proportional to distance traveled so the race distance\n",
        "# is defined by number of crank revolutions.\n",
        "distance = 10.0  # m\n",
        "crank_revs = distance/par_map[rw]/par_map[G]/2.0/np.pi\n",
        "samples_per_rev = 100\n",
        "num_nodes = int(crank_revs * samples_per_rev) + 1\n",
        "\n",
        "h = sm.symbols(\"h\", real=True)\n",
        "\n",
        "instance_constraints = (\n",
        "    # set the initial configuration\n",
        "    q1.replace(t, 0 * h) - q1_0,\n",
        "    q2.replace(t, 0 * h) - q2_0,\n",
        "    q3.replace(t, 0 * h) - q3_0,\n",
        "    q4.replace(t, 0 * h) - q4_0,\n",
        "    u1.replace(t, 0 * h),  # start stationary\n",
        "    u2.replace(t, 0 * h),  # start stationary\n",
        "    u3.replace(t, 0 * h),  # start stationary\n",
        "    u4.replace(t, 0 * h),  # start stationary\n",
        "    knee_extensor_mus.a.replace(t, 0 * h),\n",
        "    knee_flexor_mus.a.replace(t, 0 * h),\n",
        "    ankle_flexor_mus.a.replace(t, 0 * h),\n",
        "    ankle_extensor_mus.a.replace(t, 0 * h),\n",
        "    # at final time travel number of revolutions\n",
        "    q1.replace(t, (num_nodes - 1) * h) + crank_revs * 2 * np.pi,\n",
        ")"
      ]
    },
    {
      "cell_type": "markdown",
      "metadata": {
        "id": "dA2UkyYqUaxw"
      },
      "source": [
        "Only allow forward pedaling and limit the joint angle range of motion. All muscle excitations should be bound between 0 and 1."
      ]
    },
    {
      "cell_type": "code",
      "execution_count": 56,
      "metadata": {
        "id": "EhpXhabTUbOe"
      },
      "outputs": [],
      "source": [
        "bounds = {\n",
        "    q1: (-(crank_revs + 2) * 2 * np.pi, 0.0),  # can only pedal forward\n",
        "    # ankle angle, q3=-105 deg: ankle maximally plantar flexed, q3=-30 deg:\n",
        "    # ankle maximally dorsiflexed\n",
        "    q3: (-np.deg2rad(105.0), -np.deg2rad(30.0)),\n",
        "    # knee angle, q4 = 0: upper and lower leg aligned, q4 = pi/2: knee is\n",
        "    # flexed 90 degs\n",
        "    q4: (0.0, 3 * np.pi / 2),\n",
        "    u1: (-30.0, 0.0),  # about 300 rpm\n",
        "    ankle_extensor_mus.e: (0.0, 1.0),\n",
        "    ankle_flexor_mus.e: (0.0, 1.0),\n",
        "    knee_flexor_mus.e: (0.0, 1.0),\n",
        "    knee_extensor_mus.e: (0.0, 1.0),\n",
        "    h: (0.0, 0.1),\n",
        "}"
      ]
    },
    {
      "cell_type": "markdown",
      "metadata": {
        "id": "e-8i0sM2bMHX"
      },
      "source": [
        "# Instantiate the Optimal Control Problem"
      ]
    },
    {
      "cell_type": "code",
      "execution_count": null,
      "metadata": {
        "id": "w08LDgQDN9ge"
      },
      "outputs": [],
      "source": [
        "problem = Problem(\n",
        "    obj,\n",
        "    gradient,\n",
        "    eom,\n",
        "    state_vars,\n",
        "    num_nodes,\n",
        "    h,\n",
        "    known_parameter_map=par_map,\n",
        "    instance_constraints=instance_constraints,\n",
        "    bounds=bounds,\n",
        ")\n",
        "problem.add_option(\"nlp_scaling_method\", \"gradient-based\")\n",
        "problem.add_option(\"max_iter\", 2000)\n",
        "\n",
        "initial_guess = np.random.normal(loc=0.5, scale=0.2, size=problem.num_free)\n",
        "\n",
        "q1_guess = np.linspace(0.0, -crank_revs*2*np.pi, num=num_nodes)\n",
        "q2_guess = np.linspace(0.0, crank_revs*2*np.pi, num=num_nodes)\n",
        "\n",
        "u1_guess = np.linspace(0.0, -40.0, num=num_nodes)\n",
        "u1_guess[num_nodes//2:] = -20.0\n",
        "u2_guess = np.linspace(0.0, 40.0, num=num_nodes)\n",
        "u2_guess[num_nodes//2:] = 20.0\n",
        "\n",
        "initial_guess[0*num_nodes:1*num_nodes] = q1_guess\n",
        "initial_guess[1*num_nodes:2*num_nodes] = q2_guess\n",
        "initial_guess[4*num_nodes:5*num_nodes] = u1_guess\n",
        "initial_guess[5*num_nodes:6*num_nodes] = u2_guess\n",
        "initial_guess[-1] = 0.02"
      ]
    },
    {
      "cell_type": "markdown",
      "metadata": {
        "id": "THRKuxQWexPA"
      },
      "source": [
        "# Plot Initial Guess"
      ]
    },
    {
      "cell_type": "code",
      "execution_count": null,
      "metadata": {
        "id": "dAVTfAxLcs92"
      },
      "outputs": [],
      "source": [
        "_ = problem.plot_trajectories(initial_guess)"
      ]
    },
    {
      "cell_type": "markdown",
      "metadata": {
        "id": "3D8abLr3exPA"
      },
      "source": [
        "# Solve the Optimal Control Problem"
      ]
    },
    {
      "cell_type": "code",
      "execution_count": null,
      "metadata": {
        "id": "aSWjQKYmOAyV"
      },
      "outputs": [],
      "source": [
        "solution, info = problem.solve(initial_guess)\n",
        "xs, us, ps, h_val = parse_free(\n",
        "    solution, len(state_vars), 4, num_nodes, variable_duration=True\n",
        ")\n",
        "print(\"Optimal value h:\", solution[-1])\n",
        "print(info[\"status_msg\"])"
      ]
    },
    {
      "cell_type": "code",
      "execution_count": null,
      "metadata": {
        "id": "x0JF3wVWODbu"
      },
      "outputs": [],
      "source": [
        "_ = problem.plot_objective_value()"
      ]
    },
    {
      "cell_type": "code",
      "execution_count": null,
      "metadata": {
        "id": "Cn7ou8roOE9P"
      },
      "outputs": [],
      "source": [
        "problem.plot_constraint_violations(solution)"
      ]
    },
    {
      "cell_type": "code",
      "execution_count": null,
      "metadata": {
        "id": "NE94vlnNOHDv"
      },
      "outputs": [],
      "source": [
        "_ = problem.plot_trajectories(solution)"
      ]
    },
    {
      "cell_type": "code",
      "execution_count": null,
      "metadata": {
        "id": "ZAZMBMJcOJYv"
      },
      "outputs": [],
      "source": [
        "eval_mus_forces = sm.lambdify(\n",
        "    (state_vars, p),\n",
        "    (ankle_extensor_mus.force.doit().xreplace(qd_repl),\n",
        "     ankle_flexor_mus.force.doit().xreplace(qd_repl),\n",
        "     knee_flexor_mus.force.doit().xreplace(qd_repl),\n",
        "     knee_extensor_mus.force.doit().xreplace(qd_repl)),\n",
        "    cse=True)\n",
        "\n",
        "eval_mus_lens = sm.lambdify((q, p),\n",
        "                            (ankle_extensor_mus.pathway.length.xreplace(qd_repl),\n",
        "                             ankle_flexor_mus.pathway.length.xreplace(qd_repl),\n",
        "                             knee_flexor_mus.pathway.length.xreplace(qd_repl),\n",
        "                             knee_extensor_mus.pathway.length.xreplace(qd_repl)),\n",
        "                            cse=True)\n",
        "\n",
        "eval_mus_vels = sm.lambdify((state_vars, p),\n",
        "                            (ankle_extensor_mus.pathway.extension_velocity.xreplace(qd_repl),\n",
        "                             ankle_flexor_mus.pathway.extension_velocity.xreplace(qd_repl),\n",
        "                             knee_flexor_mus.pathway.extension_velocity.xreplace(qd_repl),\n",
        "                             knee_extensor_mus.pathway.extension_velocity.xreplace(qd_repl)),\n",
        "                            cse=True)\n",
        "\n",
        "ake_for, akf_for, knf_for, kne_for = eval_mus_forces(xs, p_vals)\n",
        "ake_len, akf_len, knf_len, kne_len = eval_mus_lens(xs[:4], p_vals)\n",
        "ake_vel, akf_vel, knf_vel, kne_vel = eval_mus_vels(xs, p_vals)\n",
        "\n",
        "\n",
        "def plot_sim_compact():\n",
        "\n",
        "    time = np.linspace(0, num_nodes * h_val, num=num_nodes)\n",
        "\n",
        "    fig, axes = plt.subplots(5, 1, sharex=True, layout=\"constrained\", figsize=(10.0, 10.0))\n",
        "\n",
        "    axes[0].set_title(\"Finish time = {:1.3f}\".format(time[-1]))\n",
        "    axes[0].plot(time, -ake_for, time, -akf_for, time, -knf_for, time, -kne_for)\n",
        "    axes[0].set_ylabel(\"Force\\n[N]\")\n",
        "    # axes[0].legend(['Ankle Extensor', 'Ankle Flexor', 'Knee Flexor', 'Knee Extensor'])\n",
        "\n",
        "    axes[1].plot(time, ake_len, time, akf_len, time, knf_len, time, kne_len)\n",
        "    axes[1].legend([\"Ankle Extensor\", \"Ankle Flexor\", \"Knee Flexor\", \"Knee Extensor\"])\n",
        "    axes[1].set_ylabel(\"Length\\n[M]\")\n",
        "\n",
        "    axes[2].plot(time, -xs[4, :] * 60 / 2 / np.pi, time, xs[5, :] * 60 / 2 / np.pi)\n",
        "    axes[2].set_ylabel(\"Cadence\\n[RPM]\")\n",
        "    axes[2].legend([\"Cadence\", \"Pedal Cadence\"])\n",
        "\n",
        "    axes[3].plot(time, us[0:2, :].T)\n",
        "    axes[3].legend(problem.collocator.unknown_input_trajectories[0:2])\n",
        "    axes[3].set_ylabel(\"Excitation\")\n",
        "\n",
        "    axes[4].plot(time, us[2:4, :].T)\n",
        "    axes[4].legend(problem.collocator.unknown_input_trajectories[2:4])\n",
        "    axes[4].set_ylabel(\"Excitation\")\n",
        "\n",
        "    axes[-1].set_xlabel(\"Time [s]\")\n",
        "\n",
        "    return axes\n",
        "\n",
        "\n",
        "_ = plot_sim_compact()"
      ]
    },
    {
      "cell_type": "markdown",
      "metadata": {
        "id": "UBVt4pUDexPA"
      },
      "source": [
        "# Plot Bike Speed and Rider Power"
      ]
    },
    {
      "cell_type": "code",
      "execution_count": null,
      "metadata": {
        "id": "f2TeZl63exPA"
      },
      "outputs": [],
      "source": [
        "kin_pow = (2*J + m*rw**2)*G**2*u1.diff()*u1\n",
        "roll_pow = -Cr*m*g*rw*G*u1\n",
        "air_pow = -rho*CD*Ar*G**3*rw**3*u1**2/2*u1\n",
        "eval_pow = sm.lambdify((u1.diff(t), u1, p),\n",
        "                       (kin_pow, roll_pow, air_pow))\n",
        "time = np.linspace(0, num_nodes*h_val, num=num_nodes)\n",
        "u1ds = np.diff(xs[4, :], prepend=0.0)/np.diff(time, prepend=-h_val)\n",
        "kps, rps, aps = eval_pow(u1ds, xs[4, :], p_vals)\n",
        "\n",
        "\n",
        "def plot_speed_power():\n",
        "\n",
        "    fig, axes = plt.subplots(5, 1, sharex=True, layout='constrained',\n",
        "                             figsize=(10.0, 10.0))\n",
        "\n",
        "    axes[0].set_title('Finish time = {:1.3f} s'.format(time[-1]))\n",
        "    axes[0].plot(time, -xs[4, :]*60/2/np.pi,\n",
        "                 time, xs[5, :]*60/2/np.pi)\n",
        "    axes[0].set_ylabel('Cadence\\n[RPM]')\n",
        "    axes[0].legend(['Cadence', 'Pedal Cadence'])\n",
        "\n",
        "    axes[1].plot(time, -xs[4, :]*par_map[G]*par_map[rw]*3.6)\n",
        "    axes[1].set_ylabel('Speed [km/h]')\n",
        "\n",
        "    axes[2].plot(time, rps, time, aps)\n",
        "    axes[2].set_ylabel('Power [W]')\n",
        "    axes[2].legend(['Rolling', 'Air'])\n",
        "\n",
        "    axes[3].plot(time, kps,\n",
        "                 time, kps + rps + aps)\n",
        "    axes[3].axhline(np.mean(kps + rps + aps), color='black')\n",
        "    axes[3].set_ylabel('Power [W]')\n",
        "    axes[3].legend(['Kinetic', 'Total', 'Average'])\n",
        "\n",
        "    axes[4].plot(time, ake_for*ake_vel, time, akf_for*akf_vel, time, knf_for*knf_vel, time, kne_for*kne_vel)\n",
        "    axes[4].plot(time, ake_for*ake_vel + akf_for*akf_vel + knf_for*knf_vel + kne_for*kne_vel)\n",
        "    axes[4].legend([\"Ankle Extensor\", \"Ankle Flexor\", \"Knee Flexor\", \"Knee Extensor\", \"Total Muscle\"])\n",
        "    axes[4].set_ylabel('Power [W]')\n",
        "\n",
        "    axes[-1].set_xlabel('Time [s]')\n",
        "\n",
        "    return axes\n",
        "\n",
        "\n",
        "_ = plot_speed_power()"
      ]
    },
    {
      "cell_type": "markdown",
      "metadata": {
        "id": "PZaMGwPkbalU"
      },
      "source": [
        "# Plot Configuration"
      ]
    },
    {
      "cell_type": "code",
      "execution_count": null,
      "metadata": {
        "id": "r7qYLOepOOUD"
      },
      "outputs": [],
      "source": [
        "plot_points = [P6, P1, P2, P3, P7, P3, P4, P5]\n",
        "coordinates = P6.pos_from(P1).to_matrix(N)\n",
        "for Pi in plot_points[1:]:\n",
        "    coordinates = coordinates.row_join(Pi.pos_from(P1).to_matrix(N))\n",
        "eval_coordinates = sm.lambdify((q, p), coordinates)\n",
        "\n",
        "mus_points = [P7, P8, P2, P8, None, P9, P6,\n",
        "              knee_extensor_pathway.child_tangency_point, None,\n",
        "              knee_extensor_pathway.parent_tangency_point, P9]\n",
        "mus_coordinates = P7.pos_from(P1).to_matrix(N)\n",
        "for Pi in mus_points[1:]:\n",
        "    if Pi is None:\n",
        "        pi_coord = sm.Matrix([sm.nan, sm.nan, sm.nan])\n",
        "    else:\n",
        "        pi_coord = Pi.pos_from(P1).to_matrix(N)\n",
        "    mus_coordinates = mus_coordinates.row_join(pi_coord)\n",
        "eval_mus_coordinates = sm.lambdify((q, p), mus_coordinates)\n",
        "\n",
        "title_template = 'Time = {:1.2f} s'\n",
        "\n",
        "\n",
        "def plot_configuration(q_vals, p_vals, ax=None):\n",
        "    if ax is None:\n",
        "        fig, ax = plt.subplots(layout='constrained')\n",
        "\n",
        "    x, y, _ = eval_coordinates(q_vals, p_vals)\n",
        "    xm, ym, _ = eval_mus_coordinates(q_vals, p_vals)\n",
        "    crank_circle = plt.Circle((0.0, 0.0), par_map[lc], fill=False,\n",
        "                              linestyle='--')\n",
        "    bike_lines, = ax.plot(x[:3], y[:3], 'o-', linewidth=2, color='#3dcfc2ff')\n",
        "    leg_lines, = ax.plot(x[2:], y[2:], 'o-', linewidth=4, color='#ffd90fff')\n",
        "    mus_lines, = ax.plot(xm, ym, 'o-', color='#800080ff',)\n",
        "    knee_circle = plt.Circle((x[6], y[6]), par_map[rk], color='#800080ff',\n",
        "                             fill=False)\n",
        "    ax.add_patch(crank_circle)\n",
        "    ax.add_patch(knee_circle)\n",
        "    title_text = ax.set_title(title_template.format(0.0))\n",
        "    ax.set_aspect('equal')\n",
        "    return ax, fig, bike_lines, leg_lines, mus_lines, knee_circle, title_text"
      ]
    },
    {
      "cell_type": "markdown",
      "metadata": {
        "id": "TDP_X-ZMexPB"
      },
      "source": [
        "Fully extended configuration:"
      ]
    },
    {
      "cell_type": "code",
      "execution_count": null,
      "metadata": {
        "id": "94SwBnq_exPB"
      },
      "outputs": [],
      "source": [
        "_ = plot_configuration(q_ext, p_vals)"
      ]
    },
    {
      "cell_type": "markdown",
      "metadata": {
        "id": "cmPN4OypexPB"
      },
      "source": [
        "Initial configuration:"
      ]
    },
    {
      "cell_type": "code",
      "execution_count": null,
      "metadata": {
        "id": "C3AshVcmOUEl"
      },
      "outputs": [],
      "source": [
        "ax, fig, bike_lines, leg_lines, mus_lines, knee_circle, title_text = plot_configuration(q_0, p_vals);"
      ]
    },
    {
      "cell_type": "markdown",
      "metadata": {
        "id": "QLn7TBLYbijG"
      },
      "source": [
        "# Animation"
      ]
    },
    {
      "cell_type": "code",
      "execution_count": null,
      "metadata": {
        "id": "Ma7pYuZuexPB"
      },
      "outputs": [],
      "source": [
        "def animate(i):\n",
        "    qi = xs[0:4, i]\n",
        "    x, y, _ = eval_coordinates(qi, p_vals)\n",
        "    xm, ym, _ = eval_mus_coordinates(qi, p_vals)\n",
        "    bike_lines.set_data(x[:3], y[:3])\n",
        "    leg_lines.set_data(x[2:], y[2:])\n",
        "    mus_lines.set_data(xm, ym)\n",
        "    knee_circle.set_center((x[6], y[6]))\n",
        "    title_text.set_text('Time = {:1.2f} s'.format(i*h_val))\n",
        "\n",
        "\n",
        "ani = animation.FuncAnimation(fig, animate, range(0, num_nodes, 2), interval=int(h_val * 4000))\n",
        "HTML(ani.to_jshtml())"
      ]
    }
  ],
  "metadata": {
    "colab": {
      "provenance": [],
      "include_colab_link": true
    },
    "kernelspec": {
      "display_name": "Python 3 (ipykernel)",
      "language": "python",
      "name": "python3"
    },
    "language_info": {
      "codemirror_mode": {
        "name": "ipython",
        "version": 3
      },
      "file_extension": ".py",
      "mimetype": "text/x-python",
      "name": "python",
      "nbconvert_exporter": "python",
      "pygments_lexer": "ipython3",
      "version": "3.11.11"
    }
  },
  "nbformat": 4,
  "nbformat_minor": 0
}